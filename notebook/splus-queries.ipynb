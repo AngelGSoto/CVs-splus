{
 "cells": [
  {
   "cell_type": "code",
   "execution_count": 1,
   "id": "1342ee8f",
   "metadata": {},
   "outputs": [],
   "source": [
    "import splusdata\n",
    "import getpass\n",
    "import pandas as pd"
   ]
  },
  {
   "cell_type": "code",
   "execution_count": 2,
   "id": "171a8960",
   "metadata": {},
   "outputs": [
    {
     "name": "stdout",
     "output_type": "stream",
     "text": [
      "Login: Luis\n",
      "Password: ········\n",
      "You have access to internal data\n"
     ]
    }
   ],
   "source": [
    "# Connecting with SPLUS database\n",
    "username = input(prompt=\"Login: \")\n",
    "password = getpass.getpass(\"Password: \")\n",
    "conn = splusdata.connect(username, password)"
   ]
  },
  {
   "cell_type": "code",
   "execution_count": 3,
   "id": "81de5fe5",
   "metadata": {},
   "outputs": [],
   "source": [
    "Query = f\"\"\"SELECT det.ID, det.ra, det.dec, r.r_PStotal \n",
    "               FROM \"idr3\".\"detection_image\" as det JOIN \"idr3_vacs\".\"star_galaxy_quasar\" \n",
    "               as sgq ON (sgq.ID = det.ID) join idr3.r_band as r on r.id = det.id WHERE \"CLASS\" = 0 \n",
    "               AND r_PStotal <= 20 AND nDet_PStotal = 12\"\"\""
   ]
  },
  {
   "cell_type": "code",
   "execution_count": 4,
   "id": "6f70d03e",
   "metadata": {},
   "outputs": [
    {
     "name": "stdout",
     "output_type": "stream",
     "text": [
      "finished\n"
     ]
    }
   ],
   "source": [
    "# Executing the query\n",
    "table = conn.query(Query)"
   ]
  },
  {
   "cell_type": "code",
   "execution_count": 5,
   "id": "fa7c7739",
   "metadata": {},
   "outputs": [
    {
     "name": "stdout",
     "output_type": "stream",
     "text": [
      "<class 'astropy.table.table.Table'>\n"
     ]
    }
   ],
   "source": [
    "print(type(table))"
   ]
  },
  {
   "cell_type": "code",
   "execution_count": 45,
   "id": "bff50a4c",
   "metadata": {},
   "outputs": [],
   "source": [
    "table.write(\"../QSOs-r20.fits\", format=\"fits\", overwrite=True)"
   ]
  },
  {
   "cell_type": "code",
   "execution_count": 47,
   "id": "ee682ddd",
   "metadata": {},
   "outputs": [
    {
     "name": "stdout",
     "output_type": "stream",
     "text": [
      "<class 'pandas.core.frame.DataFrame'>\n",
      "106353\n",
      "                             ID          RA       DEC  r_PStotal\n",
      "0  b'iDR3.SPLUS-n05n55.037638 '  223.882672  5.899741  19.341000\n",
      "1  b'iDR3.STRIPE82-0107.061046'  314.603292 -0.275460  19.844513\n",
      "2  b'iDR3.STRIPE82-0107.065423'  314.445716 -0.070226  18.748806\n",
      "ID            object\n",
      "RA           float64\n",
      "DEC          float64\n",
      "r_PStotal    float32\n",
      "dtype: object\n"
     ]
    }
   ],
   "source": [
    "# converting astropy table into pandas\n",
    "df = table.to_pandas()\n",
    "print(type(df))\n",
    "print(len(df))\n",
    "print(df.head(3))\n",
    "print(df.dtypes)"
   ]
  },
  {
   "cell_type": "code",
   "execution_count": 48,
   "id": "bfd8c95b",
   "metadata": {},
   "outputs": [
    {
     "data": {
      "text/html": [
       "<div>\n",
       "<style scoped>\n",
       "    .dataframe tbody tr th:only-of-type {\n",
       "        vertical-align: middle;\n",
       "    }\n",
       "\n",
       "    .dataframe tbody tr th {\n",
       "        vertical-align: top;\n",
       "    }\n",
       "\n",
       "    .dataframe thead th {\n",
       "        text-align: right;\n",
       "    }\n",
       "</style>\n",
       "<table border=\"1\" class=\"dataframe\">\n",
       "  <thead>\n",
       "    <tr style=\"text-align: right;\">\n",
       "      <th></th>\n",
       "      <th>ID</th>\n",
       "      <th>RA</th>\n",
       "      <th>DEC</th>\n",
       "      <th>r_PStotal</th>\n",
       "    </tr>\n",
       "  </thead>\n",
       "  <tbody>\n",
       "    <tr>\n",
       "      <th>0</th>\n",
       "      <td>b'iDR3.SPLUS-n05n55.037638 '</td>\n",
       "      <td>223.882672</td>\n",
       "      <td>5.899741</td>\n",
       "      <td>19.341000</td>\n",
       "    </tr>\n",
       "    <tr>\n",
       "      <th>1</th>\n",
       "      <td>b'iDR3.STRIPE82-0107.061046'</td>\n",
       "      <td>314.603292</td>\n",
       "      <td>-0.275460</td>\n",
       "      <td>19.844513</td>\n",
       "    </tr>\n",
       "    <tr>\n",
       "      <th>2</th>\n",
       "      <td>b'iDR3.STRIPE82-0107.065423'</td>\n",
       "      <td>314.445716</td>\n",
       "      <td>-0.070226</td>\n",
       "      <td>18.748806</td>\n",
       "    </tr>\n",
       "    <tr>\n",
       "      <th>3</th>\n",
       "      <td>b'iDR3.SPLUS-n04s44.034767 '</td>\n",
       "      <td>209.899487</td>\n",
       "      <td>-3.488098</td>\n",
       "      <td>19.828615</td>\n",
       "    </tr>\n",
       "    <tr>\n",
       "      <th>4</th>\n",
       "      <td>b'iDR3.SPLUS-n07s43.047387 '</td>\n",
       "      <td>207.556249</td>\n",
       "      <td>-7.786747</td>\n",
       "      <td>19.300842</td>\n",
       "    </tr>\n",
       "    <tr>\n",
       "      <th>...</th>\n",
       "      <td>...</td>\n",
       "      <td>...</td>\n",
       "      <td>...</td>\n",
       "      <td>...</td>\n",
       "    </tr>\n",
       "    <tr>\n",
       "      <th>106348</th>\n",
       "      <td>b'iDR3.SPLUS-s23s48.001115 '</td>\n",
       "      <td>356.831109</td>\n",
       "      <td>-30.256033</td>\n",
       "      <td>19.880966</td>\n",
       "    </tr>\n",
       "    <tr>\n",
       "      <th>106349</th>\n",
       "      <td>b'iDR3.SPLUS-s22s17.032305 '</td>\n",
       "      <td>24.927379</td>\n",
       "      <td>-28.091761</td>\n",
       "      <td>19.235878</td>\n",
       "    </tr>\n",
       "    <tr>\n",
       "      <th>106350</th>\n",
       "      <td>b'iDR3.SPLUS-s32s38.036036 '</td>\n",
       "      <td>65.524602</td>\n",
       "      <td>-40.966558</td>\n",
       "      <td>19.458225</td>\n",
       "    </tr>\n",
       "    <tr>\n",
       "      <th>106351</th>\n",
       "      <td>b'iDR3.SPLUS-s36s36.035403 '</td>\n",
       "      <td>68.984297</td>\n",
       "      <td>-46.098013</td>\n",
       "      <td>19.512018</td>\n",
       "    </tr>\n",
       "    <tr>\n",
       "      <th>106352</th>\n",
       "      <td>b'iDR3.SPLUS-s35s40.051217 '</td>\n",
       "      <td>75.112402</td>\n",
       "      <td>-44.802221</td>\n",
       "      <td>19.838085</td>\n",
       "    </tr>\n",
       "  </tbody>\n",
       "</table>\n",
       "<p>106353 rows × 4 columns</p>\n",
       "</div>"
      ],
      "text/plain": [
       "                                  ID          RA        DEC  r_PStotal\n",
       "0       b'iDR3.SPLUS-n05n55.037638 '  223.882672   5.899741  19.341000\n",
       "1       b'iDR3.STRIPE82-0107.061046'  314.603292  -0.275460  19.844513\n",
       "2       b'iDR3.STRIPE82-0107.065423'  314.445716  -0.070226  18.748806\n",
       "3       b'iDR3.SPLUS-n04s44.034767 '  209.899487  -3.488098  19.828615\n",
       "4       b'iDR3.SPLUS-n07s43.047387 '  207.556249  -7.786747  19.300842\n",
       "...                              ...         ...        ...        ...\n",
       "106348  b'iDR3.SPLUS-s23s48.001115 '  356.831109 -30.256033  19.880966\n",
       "106349  b'iDR3.SPLUS-s22s17.032305 '   24.927379 -28.091761  19.235878\n",
       "106350  b'iDR3.SPLUS-s32s38.036036 '   65.524602 -40.966558  19.458225\n",
       "106351  b'iDR3.SPLUS-s36s36.035403 '   68.984297 -46.098013  19.512018\n",
       "106352  b'iDR3.SPLUS-s35s40.051217 '   75.112402 -44.802221  19.838085\n",
       "\n",
       "[106353 rows x 4 columns]"
      ]
     },
     "execution_count": 48,
     "metadata": {},
     "output_type": "execute_result"
    }
   ],
   "source": [
    "#df['ID'] = df['ID'].apply(lambda x: x.decode('utf-8')) \n",
    "#df['ID'].str.decode('utf-8') # returns a pd.series applying decode on str succesfully\n",
    "df"
   ]
  },
  {
   "cell_type": "code",
   "execution_count": 49,
   "id": "139218b3",
   "metadata": {},
   "outputs": [],
   "source": [
    "# Writting the CSV table\n",
    "df.to_csv(\"../QSOs-r20.csv\", encoding='utf-8', index=False)"
   ]
  },
  {
   "cell_type": "code",
   "execution_count": null,
   "id": "352e1400",
   "metadata": {},
   "outputs": [],
   "source": []
  },
  {
   "cell_type": "code",
   "execution_count": null,
   "id": "c37c6c91",
   "metadata": {},
   "outputs": [],
   "source": []
  }
 ],
 "metadata": {
  "kernelspec": {
   "display_name": "Python 3",
   "language": "python",
   "name": "python3"
  },
  "language_info": {
   "codemirror_mode": {
    "name": "ipython",
    "version": 3
   },
   "file_extension": ".py",
   "mimetype": "text/x-python",
   "name": "python",
   "nbconvert_exporter": "python",
   "pygments_lexer": "ipython3",
   "version": "3.8.5"
  }
 },
 "nbformat": 4,
 "nbformat_minor": 5
}
