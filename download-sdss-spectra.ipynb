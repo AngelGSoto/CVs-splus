{
 "cells": [
  {
   "cell_type": "markdown",
   "id": "1af14ad7-11e6-4135-aac0-3aed9d313179",
   "metadata": {},
   "source": [
    "## SDSS Queries\n",
    "\n",
    "Scritp to download spectra from SDSS using [astroquery](https://astroquery.readthedocs.io/en/latest/sdss/sdss.html)."
   ]
  },
  {
   "cell_type": "code",
   "execution_count": 1,
   "id": "06e22b7d-9e57-49ab-bb13-f4c871c03e7a",
   "metadata": {},
   "outputs": [],
   "source": [
    "from astroquery.sdss import SDSS\n",
    "from astropy import coordinates as coords\n",
    "from astropy.coordinates import SkyCoord \n",
    "import astropy.units as u\n",
    "import pandas as pd\n",
    "from astropy.io import fits"
   ]
  },
  {
   "cell_type": "code",
   "execution_count": 2,
   "id": "cb509450-25f9-47d1-aebf-816ec8ebde97",
   "metadata": {},
   "outputs": [
    {
     "data": {
      "text/html": [
       "<div>\n",
       "<style scoped>\n",
       "    .dataframe tbody tr th:only-of-type {\n",
       "        vertical-align: middle;\n",
       "    }\n",
       "\n",
       "    .dataframe tbody tr th {\n",
       "        vertical-align: top;\n",
       "    }\n",
       "\n",
       "    .dataframe thead th {\n",
       "        text-align: right;\n",
       "    }\n",
       "</style>\n",
       "<table border=\"1\" class=\"dataframe\">\n",
       "  <thead>\n",
       "    <tr style=\"text-align: right;\">\n",
       "      <th></th>\n",
       "      <th>RA</th>\n",
       "      <th>DEC</th>\n",
       "    </tr>\n",
       "  </thead>\n",
       "  <tbody>\n",
       "    <tr>\n",
       "      <th>0</th>\n",
       "      <td>13.83333</td>\n",
       "      <td>46.21583</td>\n",
       "    </tr>\n",
       "    <tr>\n",
       "      <th>1</th>\n",
       "      <td>85.83446</td>\n",
       "      <td>-41.03225</td>\n",
       "    </tr>\n",
       "    <tr>\n",
       "      <th>2</th>\n",
       "      <td>99.13562</td>\n",
       "      <td>35.59536</td>\n",
       "    </tr>\n",
       "    <tr>\n",
       "      <th>3</th>\n",
       "      <td>106.03612</td>\n",
       "      <td>26.41969</td>\n",
       "    </tr>\n",
       "    <tr>\n",
       "      <th>4</th>\n",
       "      <td>120.84500</td>\n",
       "      <td>-28.47467</td>\n",
       "    </tr>\n",
       "    <tr>\n",
       "      <th>5</th>\n",
       "      <td>128.27396</td>\n",
       "      <td>-22.80906</td>\n",
       "    </tr>\n",
       "    <tr>\n",
       "      <th>6</th>\n",
       "      <td>129.59162</td>\n",
       "      <td>48.63392</td>\n",
       "    </tr>\n",
       "    <tr>\n",
       "      <th>7</th>\n",
       "      <td>129.70462</td>\n",
       "      <td>-48.52353</td>\n",
       "    </tr>\n",
       "    <tr>\n",
       "      <th>8</th>\n",
       "      <td>141.97121</td>\n",
       "      <td>-69.74497</td>\n",
       "    </tr>\n",
       "    <tr>\n",
       "      <th>9</th>\n",
       "      <td>227.35837</td>\n",
       "      <td>-66.82314</td>\n",
       "    </tr>\n",
       "    <tr>\n",
       "      <th>10</th>\n",
       "      <td>252.48179</td>\n",
       "      <td>-33.11717</td>\n",
       "    </tr>\n",
       "    <tr>\n",
       "      <th>11</th>\n",
       "      <td>253.68208</td>\n",
       "      <td>-19.27222</td>\n",
       "    </tr>\n",
       "    <tr>\n",
       "      <th>12</th>\n",
       "      <td>255.36729</td>\n",
       "      <td>-43.10342</td>\n",
       "    </tr>\n",
       "    <tr>\n",
       "      <th>13</th>\n",
       "      <td>259.89963</td>\n",
       "      <td>-41.01492</td>\n",
       "    </tr>\n",
       "    <tr>\n",
       "      <th>14</th>\n",
       "      <td>262.58958</td>\n",
       "      <td>-5.99264</td>\n",
       "    </tr>\n",
       "    <tr>\n",
       "      <th>15</th>\n",
       "      <td>265.03800</td>\n",
       "      <td>-28.79056</td>\n",
       "    </tr>\n",
       "    <tr>\n",
       "      <th>16</th>\n",
       "      <td>265.06708</td>\n",
       "      <td>-29.06058</td>\n",
       "    </tr>\n",
       "    <tr>\n",
       "      <th>17</th>\n",
       "      <td>267.47758</td>\n",
       "      <td>-29.72647</td>\n",
       "    </tr>\n",
       "    <tr>\n",
       "      <th>18</th>\n",
       "      <td>270.91529</td>\n",
       "      <td>40.20572</td>\n",
       "    </tr>\n",
       "    <tr>\n",
       "      <th>19</th>\n",
       "      <td>274.34242</td>\n",
       "      <td>-25.14517</td>\n",
       "    </tr>\n",
       "    <tr>\n",
       "      <th>20</th>\n",
       "      <td>277.70808</td>\n",
       "      <td>-12.53864</td>\n",
       "    </tr>\n",
       "    <tr>\n",
       "      <th>21</th>\n",
       "      <td>279.83325</td>\n",
       "      <td>-4.89814</td>\n",
       "    </tr>\n",
       "    <tr>\n",
       "      <th>22</th>\n",
       "      <td>283.37750</td>\n",
       "      <td>-1.47108</td>\n",
       "    </tr>\n",
       "    <tr>\n",
       "      <th>23</th>\n",
       "      <td>291.61250</td>\n",
       "      <td>13.36803</td>\n",
       "    </tr>\n",
       "    <tr>\n",
       "      <th>24</th>\n",
       "      <td>301.59333</td>\n",
       "      <td>36.69544</td>\n",
       "    </tr>\n",
       "    <tr>\n",
       "      <th>25</th>\n",
       "      <td>303.90400</td>\n",
       "      <td>37.18969</td>\n",
       "    </tr>\n",
       "    <tr>\n",
       "      <th>26</th>\n",
       "      <td>314.21683</td>\n",
       "      <td>-30.24394</td>\n",
       "    </tr>\n",
       "    <tr>\n",
       "      <th>27</th>\n",
       "      <td>320.93679</td>\n",
       "      <td>42.30061</td>\n",
       "    </tr>\n",
       "    <tr>\n",
       "      <th>28</th>\n",
       "      <td>339.68267</td>\n",
       "      <td>1.13908</td>\n",
       "    </tr>\n",
       "    <tr>\n",
       "      <th>29</th>\n",
       "      <td>348.88275</td>\n",
       "      <td>-30.81322</td>\n",
       "    </tr>\n",
       "    <tr>\n",
       "      <th>30</th>\n",
       "      <td>353.35800</td>\n",
       "      <td>15.37281</td>\n",
       "    </tr>\n",
       "    <tr>\n",
       "      <th>31</th>\n",
       "      <td>353.50646</td>\n",
       "      <td>39.36192</td>\n",
       "    </tr>\n",
       "  </tbody>\n",
       "</table>\n",
       "</div>"
      ],
      "text/plain": [
       "           RA       DEC\n",
       "0    13.83333  46.21583\n",
       "1    85.83446 -41.03225\n",
       "2    99.13562  35.59536\n",
       "3   106.03612  26.41969\n",
       "4   120.84500 -28.47467\n",
       "5   128.27396 -22.80906\n",
       "6   129.59162  48.63392\n",
       "7   129.70462 -48.52353\n",
       "8   141.97121 -69.74497\n",
       "9   227.35837 -66.82314\n",
       "10  252.48179 -33.11717\n",
       "11  253.68208 -19.27222\n",
       "12  255.36729 -43.10342\n",
       "13  259.89963 -41.01492\n",
       "14  262.58958  -5.99264\n",
       "15  265.03800 -28.79056\n",
       "16  265.06708 -29.06058\n",
       "17  267.47758 -29.72647\n",
       "18  270.91529  40.20572\n",
       "19  274.34242 -25.14517\n",
       "20  277.70808 -12.53864\n",
       "21  279.83325  -4.89814\n",
       "22  283.37750  -1.47108\n",
       "23  291.61250  13.36803\n",
       "24  301.59333  36.69544\n",
       "25  303.90400  37.18969\n",
       "26  314.21683 -30.24394\n",
       "27  320.93679  42.30061\n",
       "28  339.68267   1.13908\n",
       "29  348.88275 -30.81322\n",
       "30  353.35800  15.37281\n",
       "31  353.50646  39.36192"
      ]
     },
     "execution_count": 2,
     "metadata": {},
     "output_type": "execute_result"
    }
   ],
   "source": [
    "tab = pd.read_csv(\"catKoji_confirmed_coordDeg.csv\")\n",
    "tab"
   ]
  },
  {
   "cell_type": "code",
   "execution_count": 3,
   "id": "8f237eab-708a-4b07-87cc-81670853219c",
   "metadata": {},
   "outputs": [
    {
     "data": {
      "text/plain": [
       "<SkyCoord (ICRS): (ra, dec) in deg\n",
       "    [( 13.83333,  46.21583), ( 85.83446, -41.03225),\n",
       "     ( 99.13562,  35.59536), (106.03612,  26.41969),\n",
       "     (120.845  , -28.47467), (128.27396, -22.80906),\n",
       "     (129.59162,  48.63392), (129.70462, -48.52353),\n",
       "     (141.97121, -69.74497), (227.35837, -66.82314),\n",
       "     (252.48179, -33.11717), (253.68208, -19.27222),\n",
       "     (255.36729, -43.10342), (259.89963, -41.01492),\n",
       "     (262.58958,  -5.99264), (265.038  , -28.79056),\n",
       "     (265.06708, -29.06058), (267.47758, -29.72647),\n",
       "     (270.91529,  40.20572), (274.34242, -25.14517),\n",
       "     (277.70808, -12.53864), (279.83325,  -4.89814),\n",
       "     (283.3775 ,  -1.47108), (291.6125 ,  13.36803),\n",
       "     (301.59333,  36.69544), (303.904  ,  37.18969),\n",
       "     (314.21683, -30.24394), (320.93679,  42.30061),\n",
       "     (339.68267,   1.13908), (348.88275, -30.81322),\n",
       "     (353.358  ,  15.37281), (353.50646,  39.36192)]>"
      ]
     },
     "execution_count": 3,
     "metadata": {},
     "output_type": "execute_result"
    }
   ],
   "source": [
    "c = SkyCoord(ra=tab[\"RA\"]*u.degree, dec=tab[\"DEC\"]*u.degree, frame='icrs') \n",
    "c"
   ]
  },
  {
   "cell_type": "code",
   "execution_count": 4,
   "id": "56a1ebbd-3cdf-4823-9a45-085c09aa2934",
   "metadata": {},
   "outputs": [
    {
     "name": "stderr",
     "output_type": "stream",
     "text": [
      "/home/luis/anaconda3/lib/python3.8/site-packages/astroquery/sdss/core.py:862: VisibleDeprecationWarning: Reading unicode strings without specifying the encoding argument is deprecated. Set the encoding, use None for the system default.\n",
      "  arr = np.atleast_1d(np.genfromtxt(io.BytesIO(response.content),\n"
     ]
    }
   ],
   "source": [
    "xid = SDSS.query_region(c, spectro=True)"
   ]
  },
  {
   "cell_type": "code",
   "execution_count": 5,
   "id": "a168358c-8f93-46ec-bf02-0f62d9252fe0",
   "metadata": {},
   "outputs": [
    {
     "data": {
      "text/html": [
       "<i>Table length=3</i>\n",
       "<table id=\"table140461674950912\" class=\"table-striped table-bordered table-condensed\">\n",
       "<thead><tr><th>ra</th><th>dec</th><th>objid</th><th>run</th><th>rerun</th><th>camcol</th><th>field</th><th>z</th><th>plate</th><th>mjd</th><th>fiberID</th><th>specobjid</th><th>run2d</th><th>instrument</th></tr></thead>\n",
       "<thead><tr><th>float64</th><th>float64</th><th>int64</th><th>int64</th><th>int64</th><th>int64</th><th>int64</th><th>float64</th><th>int64</th><th>int64</th><th>int64</th><th>int64</th><th>int64</th><th>bytes4</th></tr></thead>\n",
       "<tr><td>353.357992649965</td><td>15.3728309094117</td><td>1237656242779914287</td><td>2507</td><td>301</td><td>5</td><td>241</td><td>8.336342e-05</td><td>746</td><td>52238</td><td>614</td><td>840090143086897152</td><td>26</td><td>SDSS</td></tr>\n",
       "<tr><td>339.682609712058</td><td>1.13906500614074</td><td>1237678617408962604</td><td>7717</td><td>301</td><td>1</td><td>194</td><td>-8.787996e-05</td><td>674</td><td>52201</td><td>524</td><td>759000610161846272</td><td>26</td><td>SDSS</td></tr>\n",
       "<tr><td>339.682609712058</td><td>1.13906500614074</td><td>1237678617408962604</td><td>7717</td><td>301</td><td>1</td><td>194</td><td>-0.0002874962</td><td>377</td><td>52145</td><td>540</td><td>424612734936573952</td><td>26</td><td>SDSS</td></tr>\n",
       "</table>"
      ],
      "text/plain": [
       "<Table length=3>\n",
       "       ra              dec               objid        ... run2d instrument\n",
       "    float64          float64             int64        ... int64   bytes4  \n",
       "---------------- ---------------- ------------------- ... ----- ----------\n",
       "353.357992649965 15.3728309094117 1237656242779914287 ...    26       SDSS\n",
       "339.682609712058 1.13906500614074 1237678617408962604 ...    26       SDSS\n",
       "339.682609712058 1.13906500614074 1237678617408962604 ...    26       SDSS"
      ]
     },
     "execution_count": 5,
     "metadata": {},
     "output_type": "execute_result"
    }
   ],
   "source": [
    "xid"
   ]
  },
  {
   "cell_type": "code",
   "execution_count": 6,
   "id": "00607d2a-a667-42e1-a427-9ffb999eecde",
   "metadata": {},
   "outputs": [],
   "source": [
    "sp = SDSS.get_spectra(matches=xid)"
   ]
  },
  {
   "cell_type": "code",
   "execution_count": 7,
   "id": "db6fb2da-e93b-4a60-a3b2-3bd18ad43e21",
   "metadata": {},
   "outputs": [
    {
     "data": {
      "text/plain": [
       "astropy.io.fits.hdu.hdulist.HDUList"
      ]
     },
     "execution_count": 7,
     "metadata": {},
     "output_type": "execute_result"
    }
   ],
   "source": [
    "type(sp[0])"
   ]
  },
  {
   "cell_type": "code",
   "execution_count": 8,
   "id": "6a5a0150-b38e-4a9f-ae0c-beeb7af7c60d",
   "metadata": {},
   "outputs": [
    {
     "data": {
      "text/plain": [
       "\"SDSSJ['233325.92' '223843.83' '223843.83']['+152222.2' '+010820.6' '+010820.6']\""
      ]
     },
     "execution_count": 8,
     "metadata": {},
     "output_type": "execute_result"
    }
   ],
   "source": [
    "coor = SkyCoord(ra=xid[\"ra\"]*u.degree, dec=xid[\"dec\"]*u.degree) \n",
    "idsdss = 'SDSSJ{0}{1}'.format(coor.ra.to_string(u.hour, sep='', precision=2, pad=True), coor.dec.to_string(sep='', precision=1, alwayssign=True, pad=True))\n",
    "idsdss"
   ]
  },
  {
   "cell_type": "code",
   "execution_count": 9,
   "id": "f27036f2-559c-4d25-a13f-17006db545eb",
   "metadata": {},
   "outputs": [],
   "source": [
    "sp[0].writeto('spectra.fits', overwrite=True)"
   ]
  },
  {
   "cell_type": "code",
   "execution_count": 10,
   "id": "a306cc6b-55f1-45bd-9693-f7a9cab5eb8e",
   "metadata": {},
   "outputs": [],
   "source": [
    "for i, idss in zip(sp, xid):\n",
    "    coor = SkyCoord(ra=idss[\"ra\"]*u.degree, dec=idss[\"dec\"]*u.degree) \n",
    "    idsdss = 'SDSSJ{0}{1}'.format(coor.ra.to_string(u.hour, sep='', precision=2, pad=True), coor.dec.to_string(sep='', precision=1, alwayssign=True, pad=True))\n",
    "    i.writeto(idsdss + '.fits', overwrite=True)\n",
    "    "
   ]
  },
  {
   "cell_type": "code",
   "execution_count": 11,
   "id": "8adb3dca-2d2f-462d-9509-434190b03b9b",
   "metadata": {},
   "outputs": [
    {
     "data": {
      "text/plain": [
       "[[<astropy.io.fits.hdu.image.PrimaryHDU object at 0x7fbf934e8b80>, <astropy.io.fits.hdu.table.BinTableHDU object at 0x7fbf93485af0>, <astropy.io.fits.hdu.table.BinTableHDU object at 0x7fbf934c10a0>, <astropy.io.fits.hdu.table.BinTableHDU object at 0x7fbf934c1a60>, <astropy.io.fits.hdu.table.BinTableHDU object at 0x7fbf934566d0>, <astropy.io.fits.hdu.table.BinTableHDU object at 0x7fbf9346e340>, <astropy.io.fits.hdu.table.BinTableHDU object at 0x7fbf9347df70>, <astropy.io.fits.hdu.table.BinTableHDU object at 0x7fbf93415be0>, <astropy.io.fits.hdu.table.BinTableHDU object at 0x7fbf9342e850>, <astropy.io.fits.hdu.table.BinTableHDU object at 0x7fbf933c54c0>, <astropy.io.fits.hdu.table.BinTableHDU object at 0x7fbf933dd130>, <astropy.io.fits.hdu.table.BinTableHDU object at 0x7fbf933ecd00>, <astropy.io.fits.hdu.table.BinTableHDU object at 0x7fbf93402970>, <astropy.io.fits.hdu.table.BinTableHDU object at 0x7fbf9339a5e0>],\n",
       " [<astropy.io.fits.hdu.image.PrimaryHDU object at 0x7fbf9352edf0>, <astropy.io.fits.hdu.table.BinTableHDU object at 0x7fbf933af280>, <astropy.io.fits.hdu.table.BinTableHDU object at 0x7fbf9334e520>, <astropy.io.fits.hdu.table.BinTableHDU object at 0x7fbf9334eeb0>, <astropy.io.fits.hdu.table.BinTableHDU object at 0x7fbf9336ab20>, <astropy.io.fits.hdu.table.BinTableHDU object at 0x7fbf9330d790>, <astropy.io.fits.hdu.table.BinTableHDU object at 0x7fbf933263d0>, <astropy.io.fits.hdu.table.BinTableHDU object at 0x7fbf932c3040>, <astropy.io.fits.hdu.table.BinTableHDU object at 0x7fbf932cbcd0>, <astropy.io.fits.hdu.table.BinTableHDU object at 0x7fbf932e3940>],\n",
       " [<astropy.io.fits.hdu.image.PrimaryHDU object at 0x7fbf93485910>, <astropy.io.fits.hdu.table.BinTableHDU object at 0x7fbf932f2a90>, <astropy.io.fits.hdu.table.BinTableHDU object at 0x7fbf93290550>, <astropy.io.fits.hdu.table.BinTableHDU object at 0x7fbf93290ee0>, <astropy.io.fits.hdu.table.BinTableHDU object at 0x7fbf932b1b50>, <astropy.io.fits.hdu.table.BinTableHDU object at 0x7fbf932497c0>, <astropy.io.fits.hdu.table.BinTableHDU object at 0x7fbf93261430>, <astropy.io.fits.hdu.table.BinTableHDU object at 0x7fbf93277040>, <astropy.io.fits.hdu.table.BinTableHDU object at 0x7fbf93208cd0>, <astropy.io.fits.hdu.table.BinTableHDU object at 0x7fbf9321e940>]]"
      ]
     },
     "execution_count": 11,
     "metadata": {},
     "output_type": "execute_result"
    }
   ],
   "source": [
    "sp"
   ]
  },
  {
   "cell_type": "markdown",
   "id": "a498ee9c-742b-4f2a-89e1-be8154fb04f5",
   "metadata": {},
   "source": [
    "## Testing that the FITS are saving in the right way"
   ]
  },
  {
   "cell_type": "code",
   "execution_count": 12,
   "id": "330235e2-a19e-4a13-94c6-ad7faa24137c",
   "metadata": {},
   "outputs": [],
   "source": [
    "hdu = fits.open('SDSSJ223843.83+010820.6.fits')"
   ]
  },
  {
   "cell_type": "code",
   "execution_count": 13,
   "id": "d06d8508-5247-4705-930c-ee7fe9483af1",
   "metadata": {},
   "outputs": [
    {
     "name": "stdout",
     "output_type": "stream",
     "text": [
      "Filename: SDSSJ223843.83+010820.6.fits\n",
      "No.    Name      Ver    Type      Cards   Dimensions   Format\n",
      "  0  PRIMARY       1 PrimaryHDU     139   ()      \n",
      "  1  COADD         1 BinTableHDU     26   3837R x 8C   [E, E, E, J, J, E, E, E]   \n",
      "  2  SPECOBJ       1 BinTableHDU    262   1R x 126C   [6A, 4A, 16A, 23A, 16A, 8A, E, E, E, J, E, E, J, B, B, B, B, B, B, J, 22A, 19A, 19A, 22A, 19A, I, 3A, 3A, 1A, J, D, D, D, E, E, 19A, 8A, J, J, J, J, K, K, J, J, J, J, J, J, K, K, K, K, I, J, J, J, J, 5J, D, D, 6A, 21A, E, E, E, J, E, 24A, 10J, J, 10E, E, E, E, E, E, E, J, E, E, E, J, E, 5E, E, 10E, 10E, 10E, 5E, 5E, 5E, 5E, 5E, J, J, E, E, E, E, E, E, 25A, 21A, 10A, E, E, E, E, E, E, E, E, J, E, E, J, 1A, 1A, E, E, J, J, 1A, 5E, 5E]   \n",
      "  3  SPZLINE       1 BinTableHDU     48   29R x 19C   [J, J, J, 13A, D, E, E, E, E, E, E, E, E, E, E, J, J, E, E]   \n",
      "  4  B2-00010662-00010660-00010661    1 BinTableHDU    146   2047R x 7C   [E, E, E, J, E, E, E]   \n",
      "  5  B2-00010663-00010660-00010661    1 BinTableHDU    146   2047R x 7C   [E, E, E, J, E, E, E]   \n",
      "  6  B2-00010664-00010660-00010661    1 BinTableHDU    146   2047R x 7C   [E, E, E, J, E, E, E]   \n",
      "  7  R2-00010662-00010660-00010661    1 BinTableHDU    146   2042R x 7C   [E, E, E, J, E, E, E]   \n",
      "  8  R2-00010663-00010660-00010661    1 BinTableHDU    146   2042R x 7C   [E, E, E, J, E, E, E]   \n",
      "  9  R2-00010664-00010660-00010661    1 BinTableHDU    146   2038R x 7C   [E, E, E, J, E, E, E]   \n"
     ]
    }
   ],
   "source": [
    "hdu.info()"
   ]
  },
  {
   "cell_type": "code",
   "execution_count": 14,
   "id": "ed763927-65b0-4dde-aee9-c84f11dbb919",
   "metadata": {},
   "outputs": [
    {
     "data": {
      "text/plain": [
       "SIMPLE  =                    T / conforms to FITS standard                      \n",
       "BITPIX  =                    8 / array data type                                \n",
       "NAXIS   =                    0 / number of array dimensions                     \n",
       "EXTEND  =                    T                                                  \n",
       "TAI     =        4505352801.42 / 1st row - Number of seconds since Nov 17 1858  \n",
       "RA      =            339.47271 / 1st row - Right ascension of telescope boresigh\n",
       "DEC     =           -0.019885  / 1st row - Declination of telescope boresight (d\n",
       "EQUINOX =              2000.00 /                                                \n",
       "RADECSYS= 'FK5     '           /                                                \n",
       "TAIHMS  = '06:35:27.64'        / 1st row - TAI time (HH:MM:SS.SS) (TAI-UT = appr\n",
       "TIMESYS = 'tai     '           / TAI, not UTC                                   \n",
       "MJD     =                52145 / MJD of observation                             \n",
       "MJDLIST = '52145   '           /                                                \n",
       "VERSION = 'NOCVS:v3_53_7:/p/iop/v3_53_7' / version of IOP                       \n",
       "CAMVER  = 'SPEC1 v4_7'         / Camera code version                            \n",
       "OBSERVER= 'long    '                                                            \n",
       "OBSCOMM = 'science '                                                            \n",
       "TELESCOP= 'SDSS 2.5-M'         / Sloan Digital Sky Survey                       \n",
       "BESTEXP =                10664 /                                                \n",
       "NEXP_B1 =                    3 / b1 camera number of exposures                  \n",
       "NEXP_R1 =                    3 / r1 camera number of exposures                  \n",
       "EXPT_B1 =              2701.00 / b1 camera exposure time (seconds)              \n",
       "EXPT_R1 =              2701.00 / r1 camera exposure time (seconds)              \n",
       "EXPTIME =              2701.00 / Minimum of exposure times for all cameras      \n",
       "SPCOADD = 'Wed Feb 27 22:33:31 2008' / SPCOADD finished                         \n",
       "FLAVOR  = 'science '           / Flavor of this sequence (e.g., dome f          \n",
       "QUALITY = 'excellent'          / night/image quality                            \n",
       "RADEG   = 3.39472900000000E+02 / Right Ascension. (degrees)                     \n",
       "DECDEG  = -1.9937790000000E-02 / Declination. (degrees)                         \n",
       "PLATEID =                  377 / Plate Id                                       \n",
       "TILEID  =                  166 / Tile Id                                        \n",
       "CARTID  =                    4 /Cartridge used in this plugging                 \n",
       "REDDEN  = '-9999 -9999 -9999 -9999 -9999' / Median reddening vector for plate   \n",
       "MAPID   =              5214401 / Map Id                                         \n",
       "NAME    = '0377-52144-01'      / Name of target; PlateId-MJD-Mapper Re          \n",
       "COLBIN  =                    1 / Binning factor perpendicular to the c          \n",
       "ROWBIN  =                    1 / Binning factor perpendicular to the r          \n",
       "PROGRAM = 'binning 1   1 '     / Identifying name for CCD program               \n",
       "SECFOCUS= -3.6000000000000E+02 / Secondary Mirror Position as reported          \n",
       "GUIDEIMG= '/data/spectro/guider/gimg0409.fits' / Last archived guider image     \n",
       "WTIME   =        998635793.000 / weatherData(timeStamp)                         \n",
       "AIRTEMP =        16.5000000000 / weatherData(airtemp)                           \n",
       "DEWPOINT=        3.53333333333 / weatherData(dewpoint)                          \n",
       "DEWDEP  =        12.9666666667 / weatherData(dewpointDep)                       \n",
       "DUSTA   =        245298.333333 / weatherData(dusta)                             \n",
       "DUSTB   =        464.666666667 / weatherData(dustb)                             \n",
       "DUSTC   =       -9999.00000000 / weatherData(dustc)                             \n",
       "DUSTD   =       -9999.00000000 / weatherData(dustd)                             \n",
       "GUSTD   = 2.43700000000000E+02 / weatherData(gustd)                             \n",
       "GUSTS   =        6.30000000000 / weatherData(gusts)                             \n",
       "HUMIDITY=        41.9666666667 / weatherData(humidity)                          \n",
       "HUMIDOUT=        41.6666666667 / weatherData(humidout)                          \n",
       "PRESSURE=        21.6566666667 / weatherData(pressure)                          \n",
       "WINDD   =        228.200000000 / weatherData(windd)                             \n",
       "WINDS   =        4.80000000000 / weatherData(winds)                             \n",
       "TEMP01  =       -93.6200000000 / CCD 01 Temperature                             \n",
       "TEMP02  =       -93.4900000000 / CCD 02 Temperature                             \n",
       "TEMP03  =       -92.5800000000 / CCD 03 Temperature                             \n",
       "TEMP04  =       -92.5800000000 / CCD 04 Temperature                             \n",
       "VERSIDL = '6.3     '           / Version of IDL                                 \n",
       "VERSUTIL= 'v5_3_0  '           / Version of idlutils                            \n",
       "VERSREAD= 'v5_3_12 '           / Version of idlspec2d for pre-processing raw dat\n",
       "VERS2D  = 'v5_3_12 '           / Version of idlspec2d for 2D reduction          \n",
       "VERSCOMB= 'v5_3_12 '           / Version of idlspec2d for combining multiple spe\n",
       "VERSLOG = 'fermi-CVS 02/27/08' / Version of SPECLOG product                     \n",
       "VERSFLAT= 'v1_7    '           / Version of SPECFLAT product                    \n",
       "OPBC    = 'opBC-51813.par'     /                                                \n",
       "OPCONFIG= 'opConfig-50000.par' /                                                \n",
       "OPECALIB= 'opECalib-51577.par' /                                                \n",
       "PLUGFILE= 'plPlugMapM-0377-52144-01.par' /                                      \n",
       "HELIO_RV=       -4.71532594275 / Heliocentric correction (added to velocities)  \n",
       "VACUUM  =                    T / Wavelengths are in vacuum                      \n",
       "SFLATTEN=                    T / Superflat has been applied                     \n",
       "PSFSKY  =                    3 / Order of PSF skysubtraction                    \n",
       "SKYCHI2 =        1.07393795937 / Mean chi^2 of sky-subtraction                  \n",
       "SCHI2MIN=        1.03573810871 /                                                \n",
       "SCHI2MAX=        1.09663834492 /                                                \n",
       "PREJECT =             0.200000 / Profile area rejection threshold               \n",
       "SPEC1_G =              15.6189 /(S/N)^2 for spec  1 at mag 20.20                \n",
       "SPEC1_R =              17.6311 /(S/N)^2 for spec  1 at mag 20.25                \n",
       "SPEC1_I =              23.7089 /(S/N)^2 for spec  1 at mag 19.90                \n",
       "SPEC2_G =              14.9513 /(S/N)^2 for spec  2 at mag 20.20                \n",
       "SPEC2_R =              19.9431 /(S/N)^2 for spec  2 at mag 20.25                \n",
       "SPEC2_I =              22.6956 /(S/N)^2 for spec  2 at mag 19.90                \n",
       "NSTD    =                   14 / Number of (good) std stars                     \n",
       "GOFFSTD =           -0.0703421 / Spectrophoto offset for std stars in G-band    \n",
       "GRMSSTD =            0.0306204 / Spectrophoto RMS for std stars in G-band       \n",
       "ROFFSTD =           -0.0285740 / Spectrophoto offset for std stars in R-band    \n",
       "RRMSSTD =            0.0354317 / Spectrophoto RMS for std stars in R-band       \n",
       "IOFFSTD =           -0.0236797 / Spectrophoto offset for std stars in I-band    \n",
       "IRMSSTD =            0.0303176 / Spectrophoto RMS for std stars in I-band       \n",
       "GROFFSTD=           -0.0299425 / Spectrophoto offset for std stars in (GR)      \n",
       "GRRMSSTD=            0.0252586 / Spectrophoto RMS for std stars in (GR)         \n",
       "RIOFFSTD=           -0.0101862 / Spectrophoto offset for std stars in (RI)      \n",
       "RIRMSSTD=            0.0167959 / Spectrophoto RMS for std stars in (RI)         \n",
       "NGAL    =                  373 / Number of (good) main galaxies                 \n",
       "GOFFGAL =           0.00347328 / Spectrophoto offset for main galaxies in G-band\n",
       "GRMSGAL =            0.0572599 / Spectrophoto RMS for main galaxies in G-band   \n",
       "ROFFGAL =          -0.00137711 / Spectrophoto offset for main galaxies in R-band\n",
       "RRMSGAL =            0.0481145 / Spectrophoto RMS for main galaxies in R-band   \n",
       "IOFFGAL =          0.000867844 / Spectrophoto offset for main galaxies in I-band\n",
       "IRMSGAL =            0.0464454 / Spectrophoto RMS for main galaxies in I-band   \n",
       "GROFFGAL=           0.00763226 / Spectrophoto offset for main galaxies in (GR)  \n",
       "GRRMSGAL=            0.0356956 / Spectrophoto RMS for main galaxies in (GR)     \n",
       "RIOFFGAL=          0.000285149 / Spectrophoto offset for main galaxies in (RI)  \n",
       "RIRMSGAL=            0.0180129 / Spectrophoto RMS for main galaxies in (RI)     \n",
       "LOWREJ  =                    5 / Extraction: low rejection                      \n",
       "HIGHREJ =                    8 / Extraction: high rejection                     \n",
       "SCATPOLY=                    0 / Extraction: Order of scattered light polynomial\n",
       "PROFTYPE=                    3 / Extraction profile: 1=Gaussian                 \n",
       "NFITPOLY=                    1 / Extraction: Number of parameters in each profil\n",
       "XCHI2   =              1.18832 / Extraction: Mean chi^2                         \n",
       "XCHI2MIN=              1.12282 /                                                \n",
       "XCHI2MAX=              1.25043 /                                                \n",
       "SHIFTGUE=   -0.000812781513105 /                                                \n",
       "SHIFT   =       0.451669422708 /Angstroms, at 4000AA                            \n",
       "SHIFTERR=        1.06771028549 /                                                \n",
       "NWORDER =                    2 / Linear-log10 coefficients                      \n",
       "WFITTYPE= 'LOG-LINEAR'         / Linear-log10 dispersion                        \n",
       "COEFF0  =        3.57990000000 / Central wavelength (log10) of first pixel      \n",
       "COEFF1  =    0.000100000000000 / Log10 dispersion per pixel                     \n",
       "FBADPIX =            0.0110713 / Fraction of bad pixels                         \n",
       "FBADPIX1=            0.0121752 / Fraction of bad pixels on spectro-1            \n",
       "FBADPIX2=           0.00997078 / Fraction of bad pixels on spectro-2            \n",
       "WAT0_001= 'system=linear'      /                                                \n",
       "WAT1_001= 'wtype=linear label=Wavelength units=Angstroms' /                     \n",
       "DC-FLAG =                    1 / Log-linear flag                                \n",
       "BUNIT   = '1E-17 erg/cm^2/s/Ang' /                                              \n",
       "PLUG_RA =            339.68266 / RA of object [deg]                             \n",
       "PLUG_DEC=              1.13907 / dec of object [deg]                            \n",
       "SPEC_ID = '    424612734936573952' / Unique object identifier                   \n",
       "FIBERID =                  540 / Fiber number (1-640)                           \n",
       "NEXP    =                    6 / Number of individual exposures                 \n",
       "EXPID01 = 'b2-00010662-00010660-00010661'                                       \n",
       "EXPID02 = 'b2-00010663-00010660-00010661'                                       \n",
       "EXPID03 = 'b2-00010664-00010660-00010661'                                       \n",
       "EXPID04 = 'r2-00010662-00010660-00010661'                                       \n",
       "EXPID05 = 'r2-00010663-00010660-00010661'                                       \n",
       "EXPID06 = 'r2-00010664-00010660-00010661'                                       "
      ]
     },
     "execution_count": 14,
     "metadata": {},
     "output_type": "execute_result"
    }
   ],
   "source": [
    "hdu[0].header"
   ]
  },
  {
   "cell_type": "code",
   "execution_count": 15,
   "id": "d8b27094-13a6-4974-8b0a-ff5ff2028d85",
   "metadata": {},
   "outputs": [
    {
     "data": {
      "text/plain": [
       "FITS_rec([(39.325245 , 3.5805, 0.03626321, 0, 0, 1.1670152 , 4.6347218, 39.548916 ),\n",
       "          (38.24721  , 3.5806, 0.03604732, 0, 0, 1.1666079 , 4.9634137, 39.583256 ),\n",
       "          (44.4218   , 3.5807, 0.03644946, 0, 0, 1.1661978 , 5.007387 , 38.405605 ),\n",
       "          ...,\n",
       "          ( 9.253668 , 3.9639, 0.51572496, 0, 0, 0.72504413, 3.91899  ,  8.458042 ),\n",
       "          ( 7.207197 , 3.964 , 0.520965  , 0, 0, 0.72517467, 4.1116023,  8.13182  ),\n",
       "          ( 5.3597326, 3.9641, 0.5258154 , 0, 0, 0.7253087 , 4.324513 ,  7.8580775)],\n",
       "         dtype=(numpy.record, [('flux', '>f4'), ('loglam', '>f4'), ('ivar', '>f4'), ('and_mask', '>i4'), ('or_mask', '>i4'), ('wdisp', '>f4'), ('sky', '>f4'), ('model', '>f4')]))"
      ]
     },
     "execution_count": 15,
     "metadata": {},
     "output_type": "execute_result"
    }
   ],
   "source": [
    "hdu[1].data"
   ]
  },
  {
   "cell_type": "code",
   "execution_count": 16,
   "id": "9e378eb7-24d1-4549-99a8-ba6167cdff15",
   "metadata": {},
   "outputs": [],
   "source": [
    "hdu2 = fits.open('SDSSJ233325.92+152222.2.fits')"
   ]
  },
  {
   "cell_type": "code",
   "execution_count": 17,
   "id": "4c8a9dbb-3277-4524-b034-e4aeeaca198b",
   "metadata": {},
   "outputs": [
    {
     "name": "stdout",
     "output_type": "stream",
     "text": [
      "Filename: SDSSJ233325.92+152222.2.fits\n",
      "No.    Name      Ver    Type      Cards   Dimensions   Format\n",
      "  0  PRIMARY       1 PrimaryHDU     143   ()      \n",
      "  1  COADD         1 BinTableHDU     26   3820R x 8C   [E, E, E, J, J, E, E, E]   \n",
      "  2  SPECOBJ       1 BinTableHDU    262   1R x 126C   [6A, 4A, 16A, 23A, 16A, 8A, E, E, E, J, E, E, J, B, B, B, B, B, B, J, 22A, 19A, 19A, 22A, 19A, I, 3A, 3A, 1A, J, D, D, D, E, E, 19A, 8A, J, J, J, J, K, K, J, J, J, J, J, J, K, K, K, K, I, J, J, J, J, 5J, D, D, 6A, 21A, E, E, E, J, E, 24A, 10J, J, 10E, E, E, E, E, E, E, J, E, E, E, J, E, 5E, E, 10E, 10E, 10E, 5E, 5E, 5E, 5E, 5E, J, J, E, E, E, E, E, E, 25A, 21A, 10A, E, E, E, E, E, E, E, E, J, E, E, J, 1A, 1A, E, E, J, J, 1A, 5E, 5E]   \n",
      "  3  SPZLINE       1 BinTableHDU     48   29R x 19C   [J, J, J, 13A, D, E, E, E, E, E, E, E, E, E, E, J, J, E, E]   \n",
      "  4  B2-00011936-00011942-00011943    1 BinTableHDU    146   2045R x 7C   [E, E, E, J, E, E, E]   \n",
      "  5  B2-00011937-00011942-00011943    1 BinTableHDU    146   2045R x 7C   [E, E, E, J, E, E, E]   \n",
      "  6  B2-00011938-00011942-00011943    1 BinTableHDU    146   2045R x 7C   [E, E, E, J, E, E, E]   \n",
      "  7  B2-00011939-00011942-00011943    1 BinTableHDU    146   2045R x 7C   [E, E, E, J, E, E, E]   \n",
      "  8  B2-00011940-00011942-00011943    1 BinTableHDU    146   2045R x 7C   [E, E, E, J, E, E, E]   \n",
      "  9  R2-00011936-00011942-00011943    1 BinTableHDU    146   2044R x 7C   [E, E, E, J, E, E, E]   \n",
      " 10  R2-00011937-00011942-00011943    1 BinTableHDU    146   2044R x 7C   [E, E, E, J, E, E, E]   \n",
      " 11  R2-00011938-00011942-00011943    1 BinTableHDU    146   2044R x 7C   [E, E, E, J, E, E, E]   \n",
      " 12  R2-00011939-00011942-00011943    1 BinTableHDU    146   2044R x 7C   [E, E, E, J, E, E, E]   \n",
      " 13  R2-00011940-00011942-00011943    1 BinTableHDU    146   2044R x 7C   [E, E, E, J, E, E, E]   \n"
     ]
    }
   ],
   "source": [
    "hdu2.info()"
   ]
  },
  {
   "cell_type": "code",
   "execution_count": 18,
   "id": "d3b97979-9a5c-4d87-b326-60cac2842361",
   "metadata": {},
   "outputs": [
    {
     "data": {
      "text/plain": [
       "SIMPLE  =                    T / conforms to FITS standard                      \n",
       "BITPIX  =                    8 / array data type                                \n",
       "NAXIS   =                    0 / number of array dimensions                     \n",
       "EXTEND  =                    T                                                  \n",
       "TAI     =        4513378153.70 / 1st row - Number of seconds since Nov 17 1858  \n",
       "RA      =            352.25100 / 1st row - Right ascension of telescope boresigh\n",
       "DEC     =            14.634225 / 1st row - Declination of telescope boresight (d\n",
       "EQUINOX =              2000.00 /                                                \n",
       "RADECSYS= 'FK5     '           /                                                \n",
       "TAIHMS  = '03:14:06.10'        / 1st row - TAI time (HH:MM:SS.SS) (TAI-UT = appr\n",
       "TIMESYS = 'tai     '           / TAI, not UTC                                   \n",
       "MJD     =                52238 / MJD of observation                             \n",
       "MJDLIST = '52238   '           /                                                \n",
       "VERSION = 'v3_60_2 '           / version of IOP                                 \n",
       "CAMVER  = 'SPEC1 v4_7'         / Camera code version                            \n",
       "OBSERVER= 'harvanek'                                                            \n",
       "OBSCOMM = 'science '                                                            \n",
       "TELESCOP= 'SDSS 2.5-M'         / Sloan Digital Sky Survey                       \n",
       "BESTEXP =                11938 /                                                \n",
       "NEXP_B1 =                    5 / b1 camera number of exposures                  \n",
       "NEXP_R1 =                    5 / r1 camera number of exposures                  \n",
       "EXPT_B1 =              7502.00 / b1 camera exposure time (seconds)              \n",
       "EXPT_R1 =              7502.00 / r1 camera exposure time (seconds)              \n",
       "EXPTIME =              7502.00 / Minimum of exposure times for all cameras      \n",
       "SPCOADD = 'Mon Feb 25 13:15:00 2008' / SPCOADD finished                         \n",
       "FLAVOR  = 'science '           / Flavor of this sequence (e.g., dome f          \n",
       "QUALITY = 'excellent'          / night/image quality                            \n",
       "RADEG   = 3.52251000000000E+02 / Right Ascension. (degrees)                     \n",
       "DECDEG  = 1.46333000000000E+01 / Declination. (degrees)                         \n",
       "PLATEID =                  746 / Plate Id                                       \n",
       "TILEID  =                  520 / Tile Id                                        \n",
       "CARTID  =                    4 /Cartridge used in this plugging                 \n",
       "REDDEN  = '0.1671 0.1229 0.0892 0.0676 0.0479' / Median reddening vector for pla\n",
       "MAPID   =              5223501 / Map Id                                         \n",
       "NAME    = '0746-52235-01'      / Name of target; PlateId-MJD-Mapper Re          \n",
       "COLBIN  =                    1 / Binning factor perpendicular to the c          \n",
       "ROWBIN  =                    1 / Binning factor perpendicular to the r          \n",
       "PROGRAM = 'binning 1   1 '     / Identifying name for CCD program               \n",
       "SECFOCUS= -1.0000000000000E+02 / Secondary Mirror Position as reported          \n",
       "GUIDEIMG= '/data/spectro/guider/gimg0919.fits' / Last archived guider image     \n",
       "WTIME   =        1006661199.80 / weatherData(timeStamp)                         \n",
       "AIRTEMP =        1.44000000000 / weatherData(airtemp)                           \n",
       "DEWPOINT=       -18.2000000000 / weatherData(dewpoint)                          \n",
       "DEWDEP  =        19.6600000000 / weatherData(dewpointDep)                       \n",
       "DUSTA   =        11131.6000000 / weatherData(dusta)                             \n",
       "DUSTB   =        465.800000000 / weatherData(dustb)                             \n",
       "DUSTC   =        15197.8000000 / weatherData(dustc)                             \n",
       "DUSTD   =        799.400000000 / weatherData(dustd)                             \n",
       "GUSTD   = 2.98900000000000E+02 / weatherData(gustd)                             \n",
       "GUSTS   =        21.3000000000 / weatherData(gusts)                             \n",
       "HUMIDITY=        21.7600000000 / weatherData(humidity)                          \n",
       "HUMIDOUT=        21.2000000000 / weatherData(humidout)                          \n",
       "PRESSURE=        21.3860000000 / weatherData(pressure)                          \n",
       "WINDD   =        274.680000000 / weatherData(windd)                             \n",
       "WINDS   =        12.2400000000 / weatherData(winds)                             \n",
       "TEMP01  =       -94.1400000000 / CCD 01 Temperature                             \n",
       "TEMP02  =       -93.5160000000 / CCD 02 Temperature                             \n",
       "TEMP03  =       -92.8920000000 / CCD 03 Temperature                             \n",
       "TEMP04  =       -93.3600000000 / CCD 04 Temperature                             \n",
       "VERSIDL = '6.3     '           / Version of IDL                                 \n",
       "VERSUTIL= 'v5_3_0  '           / Version of idlutils                            \n",
       "VERSREAD= 'v5_3_12 '           / Version of idlspec2d for pre-processing raw dat\n",
       "VERS2D  = 'v5_3_12 '           / Version of idlspec2d for 2D reduction          \n",
       "VERSCOMB= 'v5_3_12 '           / Version of idlspec2d for combining multiple spe\n",
       "VERSLOG = 'fermi-CVS 02/25/08' / Version of SPECLOG product                     \n",
       "VERSFLAT= 'v1_7    '           / Version of SPECFLAT product                    \n",
       "OPBC    = 'opBC-51813.par'     /                                                \n",
       "OPCONFIG= 'opConfig-50000.par' /                                                \n",
       "OPECALIB= 'opECalib-51577.par' /                                                \n",
       "PLUGFILE= 'plPlugMapM-0746-52235-01.par' /                                      \n",
       "HELIO_RV=        26.2893259558 / Heliocentric correction (added to velocities)  \n",
       "VACUUM  =                    T / Wavelengths are in vacuum                      \n",
       "SFLATTEN=                    T / Superflat has been applied                     \n",
       "PSFSKY  =                    3 / Order of PSF skysubtraction                    \n",
       "SKYCHI2 =        1.21965649134 / Mean chi^2 of sky-subtraction                  \n",
       "SCHI2MIN=        1.02799623282 /                                                \n",
       "SCHI2MAX=        1.61355644707 /                                                \n",
       "PREJECT =             0.200000 / Profile area rejection threshold               \n",
       "SPEC1_G =              13.2542 /(S/N)^2 for spec  1 at mag 20.20                \n",
       "SPEC1_R =              18.2812 /(S/N)^2 for spec  1 at mag 20.25                \n",
       "SPEC1_I =              24.5465 /(S/N)^2 for spec  1 at mag 19.90                \n",
       "SPEC2_G =              19.5975 /(S/N)^2 for spec  2 at mag 20.20                \n",
       "SPEC2_R =              21.2371 /(S/N)^2 for spec  2 at mag 20.25                \n",
       "SPEC2_I =              26.7117 /(S/N)^2 for spec  2 at mag 19.90                \n",
       "NSTD    =                   16 / Number of (good) std stars                     \n",
       "GOFFSTD =           -0.0777578 / Spectrophoto offset for std stars in G-band    \n",
       "GRMSSTD =            0.0717368 / Spectrophoto RMS for std stars in G-band       \n",
       "ROFFSTD =           -0.0324717 / Spectrophoto offset for std stars in R-band    \n",
       "RRMSSTD =            0.0507891 / Spectrophoto RMS for std stars in R-band       \n",
       "IOFFSTD =           -0.0217633 / Spectrophoto offset for std stars in I-band    \n",
       "IRMSSTD =            0.0395344 / Spectrophoto RMS for std stars in I-band       \n",
       "GROFFSTD=           -0.0288372 / Spectrophoto offset for std stars in (GR)      \n",
       "GRRMSSTD=            0.0458356 / Spectrophoto RMS for std stars in (GR)         \n",
       "RIOFFSTD=          -0.00776386 / Spectrophoto offset for std stars in (RI)      \n",
       "RIRMSSTD=            0.0286944 / Spectrophoto RMS for std stars in (RI)         \n",
       "NGAL    =                  407 / Number of (good) main galaxies                 \n",
       "GOFFGAL =            0.0157108 / Spectrophoto offset for main galaxies in G-band\n",
       "GRMSGAL =            0.0858628 / Spectrophoto RMS for main galaxies in G-band   \n",
       "ROFFGAL =          -0.00174713 / Spectrophoto offset for main galaxies in R-band\n",
       "RRMSGAL =            0.0595101 / Spectrophoto RMS for main galaxies in R-band   \n",
       "IOFFGAL =            0.0103779 / Spectrophoto offset for main galaxies in I-band\n",
       "IRMSGAL =            0.0464565 / Spectrophoto RMS for main galaxies in I-band   \n",
       "GROFFGAL=            0.0153522 / Spectrophoto offset for main galaxies in (GR)  \n",
       "GRRMSGAL=            0.0653885 / Spectrophoto RMS for main galaxies in (GR)     \n",
       "RIOFFGAL=          -0.00602341 / Spectrophoto offset for main galaxies in (RI)  \n",
       "RIRMSGAL=            0.0303801 / Spectrophoto RMS for main galaxies in (RI)     \n",
       "LOWREJ  =                    5 / Extraction: low rejection                      \n",
       "HIGHREJ =                    8 / Extraction: high rejection                     \n",
       "SCATPOLY=                    0 / Extraction: Order of scattered light polynomial\n",
       "PROFTYPE=                    3 / Extraction profile: 1=Gaussian                 \n",
       "NFITPOLY=                    1 / Extraction: Number of parameters in each profil\n",
       "XCHI2   =              1.91917 / Extraction: Mean chi^2                         \n",
       "XCHI2MIN=              1.22874 /                                                \n",
       "XCHI2MAX=              2.52903 /                                                \n",
       "SHIFTGUE=   -0.000812781513105 /                                                \n",
       "SHIFT   =       -2.07773617942 /Angstroms, at 4000AA                            \n",
       "SHIFTERR=        5.33161592249 /                                                \n",
       "NWORDER =                    2 / Linear-log10 coefficients                      \n",
       "WFITTYPE= 'LOG-LINEAR'         / Linear-log10 dispersion                        \n",
       "COEFF0  =        3.57960000000 / Central wavelength (log10) of first pixel      \n",
       "COEFF1  =    0.000100000000000 / Log10 dispersion per pixel                     \n",
       "FBADPIX =            0.0448651 / Fraction of bad pixels                         \n",
       "FBADPIX1=            0.0537805 / Fraction of bad pixels on spectro-1            \n",
       "FBADPIX2=            0.0359776 / Fraction of bad pixels on spectro-2            \n",
       "WAT0_001= 'system=linear'      /                                                \n",
       "WAT1_001= 'wtype=linear label=Wavelength units=Angstroms' /                     \n",
       "DC-FLAG =                    1 / Log-linear flag                                \n",
       "BUNIT   = '1E-17 erg/cm^2/s/Ang' /                                              \n",
       "PLUG_RA =              353.358 / RA of object [deg]                             \n",
       "PLUG_DEC=            15.372832 / dec of object [deg]                            \n",
       "SPEC_ID = '    840090143086897152' / Unique object identifier                   \n",
       "FIBERID =                  614 / Fiber number (1-640)                           \n",
       "NEXP    =                   10 / Number of individual exposures                 \n",
       "EXPID01 = 'b2-00011936-00011942-00011943'                                       \n",
       "EXPID02 = 'b2-00011937-00011942-00011943'                                       \n",
       "EXPID03 = 'b2-00011938-00011942-00011943'                                       \n",
       "EXPID04 = 'b2-00011939-00011942-00011943'                                       \n",
       "EXPID05 = 'b2-00011940-00011942-00011943'                                       \n",
       "EXPID06 = 'r2-00011936-00011942-00011943'                                       \n",
       "EXPID07 = 'r2-00011937-00011942-00011943'                                       \n",
       "EXPID08 = 'r2-00011938-00011942-00011943'                                       \n",
       "EXPID09 = 'r2-00011939-00011942-00011943'                                       \n",
       "EXPID10 = 'r2-00011940-00011942-00011943'                                       "
      ]
     },
     "execution_count": 18,
     "metadata": {},
     "output_type": "execute_result"
    }
   ],
   "source": [
    "hdu2[0].header"
   ]
  },
  {
   "cell_type": "code",
   "execution_count": null,
   "id": "169e20df-ca92-41db-a575-38bb094f0eba",
   "metadata": {},
   "outputs": [],
   "source": []
  },
  {
   "cell_type": "code",
   "execution_count": null,
   "id": "5adf9507-c7bb-48d4-baee-4fc0e3a81700",
   "metadata": {},
   "outputs": [],
   "source": []
  }
 ],
 "metadata": {
  "kernelspec": {
   "display_name": "Python 3",
   "language": "python",
   "name": "python3"
  },
  "language_info": {
   "codemirror_mode": {
    "name": "ipython",
    "version": 3
   },
   "file_extension": ".py",
   "mimetype": "text/x-python",
   "name": "python",
   "nbconvert_exporter": "python",
   "pygments_lexer": "ipython3",
   "version": "3.8.5"
  }
 },
 "nbformat": 4,
 "nbformat_minor": 5
}
